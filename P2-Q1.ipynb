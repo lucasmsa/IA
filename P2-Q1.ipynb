{
 "cells": [
  {
   "cell_type": "code",
   "execution_count": 1,
   "metadata": {},
   "outputs": [],
   "source": [
    "import numpy as np\n",
    "import pandas as pd\n",
    "from xgboost import XGBClassifier\n",
    "from sklearn.metrics import mean_absolute_error, classification_report, confusion_matrix, accuracy_score, f1_score\n",
    "from sklearn.model_selection import train_test_split\n",
    "from sklearn.ensemble import RandomForestClassifier\n",
    "from matplotlib import pyplot as plt\n",
    "from sklearn.neighbors import KNeighborsClassifier\n",
    "import seaborn as sns\n",
    "from imblearn.metrics import sensitivity_specificity_support\n",
    "from IPython.core.display import display, HTML\n",
    "from sklearn import preprocessing"
   ]
  },
  {
   "cell_type": "markdown",
   "metadata": {},
   "source": [
    "<h2>Função de Especificidade e Sensibilidade</h2>\n",
    "<h10><hr></h10>\n",
    "<h4>Sendo a sensitividade relacionada a proporção de verdadeiros positivos (capacidade do sistema de reconhecer dados positivos (no caso: sobreviventes)) - (VP)/(VP + FN)</h4>\n",
    "<h4>e a especificidade é relacionada a proporção de verdadeiros negativos (capacidade do sistema de reconhecer dados falsos (no caso: mortos)) - (VN)/(VN + FP)</h4>"
   ]
  },
  {
   "cell_type": "code",
   "execution_count": 73,
   "metadata": {},
   "outputs": [],
   "source": [
    "def Sensitivity_specificity(confusion_matrix, model_name):\n",
    "    print('Sensitividade do modelo {0}: {1:.3f}' .format(model_name, (conf[1][1])/(conf[1][0] + conf[1][1])))\n",
    "    print('Especificidade do modelo {0}: {1:.3f}' .format(model_name, conf[0][0]/(conf[0][0] + conf[0][1])))\n",
    "    return ''"
   ]
  },
  {
   "cell_type": "markdown",
   "metadata": {},
   "source": [
    "<h2>Abrindo e armazenando o arquivo csv com o pandas</h2>"
   ]
  },
  {
   "cell_type": "code",
   "execution_count": 60,
   "metadata": {},
   "outputs": [],
   "source": [
    "titanic_file = 'train.csv'\n",
    "titanic_data = pd.read_csv(titanic_file)"
   ]
  },
  {
   "cell_type": "markdown",
   "metadata": {},
   "source": [
    "<h2>Retirando linhas contendo atributos em branco relativos a coluna de idade</h2>"
   ]
  },
  {
   "cell_type": "code",
   "execution_count": 61,
   "metadata": {},
   "outputs": [
    {
     "name": "stdout",
     "output_type": "stream",
     "text": [
      "Total de linhas retiradas: 177\n"
     ]
    }
   ],
   "source": [
    "print(\"Total de linhas retiradas: {}\".format(titanic_data['Age'].isnull().sum()))\n",
    "filtered_titanic_data = titanic_data.dropna(axis=0, how='all', subset=['Age'])"
   ]
  },
  {
   "cell_type": "markdown",
   "metadata": {},
   "source": [
    "<h2>Alterando os valores não numéricos relativos ao sexo dos tripulantes para valores numéricos</h2>\n",
    "<h15><hr></h15>\n",
    "<h4>Homens = 1 | Mulheres = 0</h4>\n",
    "<h5>Há uma quantidade consideravelmente maior de homens que mulheres, quase 200 homens a mais (192), apresentando um desbalanceamento entre os gêneros</h5>"
   ]
  },
  {
   "cell_type": "code",
   "execution_count": 62,
   "metadata": {},
   "outputs": [
    {
     "name": "stdout",
     "output_type": "stream",
     "text": [
      "1    453\n",
      "0    261\n",
      "Name: Sex, dtype: int64\n"
     ]
    },
    {
     "data": {
      "text/plain": [
       "<matplotlib.axes._subplots.AxesSubplot at 0x21d432d3c88>"
      ]
     },
     "execution_count": 62,
     "metadata": {},
     "output_type": "execute_result"
    },
    {
     "data": {
      "image/png": "[encoded data removed]",
      "text/plain": [
       "<Figure size 432x288 with 1 Axes>"
      ]
     },
     "metadata": {
      "needs_background": "light"
     },
     "output_type": "display_data"
    }
   ],
   "source": [
    "new_filt_tit_data = filtered_titanic_data.replace({'male': 1, 'female': 0})\n",
    "print(new_filt_tit_data['Sex'].value_counts())\n",
    "new_filt_tit_data['Sex'].plot(kind='hist')"
   ]
  },
  {
   "cell_type": "markdown",
   "metadata": {},
   "source": [
    "<h2>Análise do gráfico de idade</h2>\n",
    "<h12><hr></h12>\n",
    "<h5>Pode-se inferir que grande parte dos tripulantes tinham entre 20 e 40 anos</h5>\n",
    "<h5>Possuindo outrossim uma quantidade relativamente considerável de pessoas idosas, que podem não ser considerados outliers,</h5>\n",
    "<h5>visto que não é incosistente nem apresenta um valor atípico relativo a série, pois existem muitos valores próximos na terceira idade, sendo o mais divergente o de ~80 anos</h5>"
   ]
  },
  {
   "cell_type": "code",
   "execution_count": 63,
   "metadata": {},
   "outputs": [
    {
     "data": {
      "text/plain": [
       "<matplotlib.axes._subplots.AxesSubplot at 0x21d51a5afd0>"
      ]
     },
     "execution_count": 63,
     "metadata": {},
     "output_type": "execute_result"
    },
    {
     "data": {
      "image/png": "[encoded data removed]",
      "text/plain": [
       "<Figure size 432x288 with 1 Axes>"
      ]
     },
     "metadata": {
      "needs_background": "light"
     },
     "output_type": "display_data"
    }
   ],
   "source": [
    "new_filt_tit_data['Age'].plot(kind='box')"
   ]
  },
  {
   "cell_type": "markdown",
   "metadata": {},
   "source": [
    "<h4>Apresentando outra representação apenas para expor que não existem outliers</h4>\n",
    "<h12><hr></h12>\n",
    "<h5>Dada essa quantidade de dados concentradas entre 20 e 30 anos percebe-se que os dados não estão balanceados</h5>"
   ]
  },
  {
   "cell_type": "code",
   "execution_count": 64,
   "metadata": {},
   "outputs": [
    {
     "data": {
      "text/plain": [
       "<matplotlib.axes._subplots.AxesSubplot at 0x21d51abb898>"
      ]
     },
     "execution_count": 64,
     "metadata": {},
     "output_type": "execute_result"
    },
    {
     "data": {
      "image/png": "[encoded data removed]",
      "text/plain": [
       "<Figure size 432x288 with 1 Axes>"
      ]
     },
     "metadata": {
      "needs_background": "light"
     },
     "output_type": "display_data"
    }
   ],
   "source": [
    "new_filt_tit_data['Age'].plot(kind='hist', title='Idades')"
   ]
  },
  {
   "cell_type": "markdown",
   "metadata": {},
   "source": [
    "<h2>Análise do gráfico de preços</h2>\n",
    "<h12><hr></h12>\n",
    "<h5>A maior parte dos preços estão na faixa de 0 e 50, existindo claros outliers nessa coluna</h5>\n",
    "<h5>Especialmente esse valor maior que 500 e alguns dos pontos mais afastadas da amostra mais contígua próxima da extremidade superior</h5>\n",
    "<h5>Estes dados não estão balanceados</h5>"
   ]
  },
  {
   "cell_type": "code",
   "execution_count": 65,
   "metadata": {},
   "outputs": [
    {
     "data": {
      "text/plain": [
       "<matplotlib.axes._subplots.AxesSubplot at 0x21d51b31518>"
      ]
     },
     "execution_count": 65,
     "metadata": {},
     "output_type": "execute_result"
    },
    {
     "data": {
      "image/png": "[encoded data removed]",
      "text/plain": [
       "<Figure size 432x288 with 1 Axes>"
      ]
     },
     "metadata": {
      "needs_background": "light"
     },
     "output_type": "display_data"
    }
   ],
   "source": [
    "new_filt_tit_data['Fare'].plot(kind='box', title='Preço')"
   ]
  },
  {
   "cell_type": "markdown",
   "metadata": {},
   "source": [
    "<h4>Dados relacionados a irmãos e cônjuges no navio, pessoas no mesmo nível na árvore genealógica</h4>\n",
    "<h20><hr></h20>\n",
    "<h5>Há uma uma grande quantidade grande de 0's e 1's, tendo valor bastante diminuido e variando até 5</h5>\n",
    "<h5>Os dados não estão balanceados</h5>"
   ]
  },
  {
   "cell_type": "code",
   "execution_count": 66,
   "metadata": {},
   "outputs": [
    {
     "data": {
      "text/plain": [
       "<matplotlib.axes._subplots.AxesSubplot at 0x21d51b937f0>"
      ]
     },
     "execution_count": 66,
     "metadata": {},
     "output_type": "execute_result"
    },
    {
     "data": {
      "image/png": "[encoded data removed]",
      "text/plain": [
       "<Figure size 432x288 with 1 Axes>"
      ]
     },
     "metadata": {
      "needs_background": "light"
     },
     "output_type": "display_data"
    }
   ],
   "source": [
    "new_filt_tit_data['SibSp'].plot(kind='hist')"
   ]
  },
  {
   "cell_type": "markdown",
   "metadata": {},
   "source": [
    "<h4>Dados relacionados a parentes e crianças no navio, pessoas de níveis divergentes na árvore genealógica</h4>\n",
    "<h20><hr></h20>\n",
    "<h5>Há uma uma grande quantidade grande de 0's e um quinto desses de 1's, tendo valor bastante diminuido e variando até 6, sendo este quase nulo</h5>\n",
    "<h5>Os dados não estão balanceados</h5>"
   ]
  },
  {
   "cell_type": "code",
   "execution_count": 67,
   "metadata": {},
   "outputs": [
    {
     "data": {
      "text/plain": [
       "<matplotlib.axes._subplots.AxesSubplot at 0x21d51c0a080>"
      ]
     },
     "execution_count": 67,
     "metadata": {},
     "output_type": "execute_result"
    },
    {
     "data": {
      "image/png": "[encoded data removed]",
      "text/plain": [
       "<Figure size 432x288 with 1 Axes>"
      ]
     },
     "metadata": {
      "needs_background": "light"
     },
     "output_type": "display_data"
    }
   ],
   "source": [
    "new_filt_tit_data['Parch'].plot(kind='hist')"
   ]
  },
  {
   "cell_type": "markdown",
   "metadata": {},
   "source": [
    "\n",
    "<h2>Classe dos passageiros</h2>\n",
    "<h15><hr></h15>\n",
    "<h5>Observando esse histograma percebe-se que a maior parte das pessoas estão na terceira classe</h5>\n",
    "<h5>Havendo uma quantidade deveras semelhante de pessoas na primeira e segunda classes</h5>\n",
    "<h5>Dados não estão muito balanceados por causa da terceira classe</h5>"
   ]
  },
  {
   "cell_type": "code",
   "execution_count": 68,
   "metadata": {},
   "outputs": [
    {
     "data": {
      "text/plain": [
       "<matplotlib.axes._subplots.AxesSubplot at 0x21d51beb9e8>"
      ]
     },
     "execution_count": 68,
     "metadata": {},
     "output_type": "execute_result"
    },
    {
     "data": {
      "image/png": "[encoded data removed]",
      "text/plain": [
       "<Figure size 432x288 with 1 Axes>"
      ]
     },
     "metadata": {
      "needs_background": "light"
     },
     "output_type": "display_data"
    }
   ],
   "source": [
    "new_filt_tit_data['Pclass'].plot(kind='hist')"
   ]
  },
  {
   "cell_type": "markdown",
   "metadata": {},
   "source": [
    "<h2>Matriz de correlação</h2>\n",
    "<h4>Através da extração da matriz de correlação da base de dados, e observando a coluna survived que é a que se deseja prever, temos: </h4>\n",
    "<h15><hr><h15>\n",
    "    <ul style=\"list-style-type:circle;\">\n",
    "  <li><h5>Age: Possui uma correlação bastante baixa com idade, podendo inferir que uma influência muito baixa em pouca e idade e maior chance de sobrevivência</h5></li>\n",
    "  <li><h5>Sex: Correlação negativa com o sexo, visto que mulher foi considerado 0 e survived é 1, quanto maior survived menor o sex, ou seja, mais mulheres sobreviveram</h5></li>\n",
    "  <li><h5>SibSp e Parch: Praticamente não exercem influência, principalmente SibSp</h5></li>\n",
    "  <li><h5>Fare: O preço possui uma correlação leve, mas considerável, quanto mais foi pago, mais sobreviveram</h5></li>\n",
    "  <li><h5>PClass: Há uma correlação negativa, quanto menor a classe mais sobreviveram</h5></li>\n",
    "</ul>"
   ]
  },
  {
   "cell_type": "code",
   "execution_count": 69,
   "metadata": {},
   "outputs": [
    {
     "data": {
      "text/html": [
       "<style  type=\"text/css\" >\n",
       "    #T_0c128adc_d13b_11e9_84dc_2cfda1936f0brow0_col0 {\n",
       "            background-color:  #b40426;\n",
       "            color:  #f1f1f1;\n",
       "        }    #T_0c128adc_d13b_11e9_84dc_2cfda1936f0brow0_col1 {\n",
       "            background-color:  #c4d5f3;\n",
       "            color:  #000000;\n",
       "        }    #T_0c128adc_d13b_11e9_84dc_2cfda1936f0brow0_col2 {\n",
       "            background-color:  #3b4cc0;\n",
       "            color:  #f1f1f1;\n",
       "        }    #T_0c128adc_d13b_11e9_84dc_2cfda1936f0brow0_col3 {\n",
       "            background-color:  #485fd1;\n",
       "            color:  #f1f1f1;\n",
       "        }    #T_0c128adc_d13b_11e9_84dc_2cfda1936f0brow0_col4 {\n",
       "            background-color:  #c6d6f1;\n",
       "            color:  #000000;\n",
       "        }    #T_0c128adc_d13b_11e9_84dc_2cfda1936f0brow0_col5 {\n",
       "            background-color:  #5f7fe8;\n",
       "            color:  #000000;\n",
       "        }    #T_0c128adc_d13b_11e9_84dc_2cfda1936f0brow0_col6 {\n",
       "            background-color:  #9ebeff;\n",
       "            color:  #000000;\n",
       "        }    #T_0c128adc_d13b_11e9_84dc_2cfda1936f0brow1_col0 {\n",
       "            background-color:  #abc8fd;\n",
       "            color:  #000000;\n",
       "        }    #T_0c128adc_d13b_11e9_84dc_2cfda1936f0brow1_col1 {\n",
       "            background-color:  #b40426;\n",
       "            color:  #f1f1f1;\n",
       "        }    #T_0c128adc_d13b_11e9_84dc_2cfda1936f0brow1_col2 {\n",
       "            background-color:  #6b8df0;\n",
       "            color:  #000000;\n",
       "        }    #T_0c128adc_d13b_11e9_84dc_2cfda1936f0brow1_col3 {\n",
       "            background-color:  #3b4cc0;\n",
       "            color:  #f1f1f1;\n",
       "        }    #T_0c128adc_d13b_11e9_84dc_2cfda1936f0brow1_col4 {\n",
       "            background-color:  #88abfd;\n",
       "            color:  #000000;\n",
       "        }    #T_0c128adc_d13b_11e9_84dc_2cfda1936f0brow1_col5 {\n",
       "            background-color:  #d1dae9;\n",
       "            color:  #000000;\n",
       "        }    #T_0c128adc_d13b_11e9_84dc_2cfda1936f0brow1_col6 {\n",
       "            background-color:  #3b4cc0;\n",
       "            color:  #f1f1f1;\n",
       "        }    #T_0c128adc_d13b_11e9_84dc_2cfda1936f0brow2_col0 {\n",
       "            background-color:  #485fd1;\n",
       "            color:  #f1f1f1;\n",
       "        }    #T_0c128adc_d13b_11e9_84dc_2cfda1936f0brow2_col1 {\n",
       "            background-color:  #98b9ff;\n",
       "            color:  #000000;\n",
       "        }    #T_0c128adc_d13b_11e9_84dc_2cfda1936f0brow2_col2 {\n",
       "            background-color:  #b40426;\n",
       "            color:  #f1f1f1;\n",
       "        }    #T_0c128adc_d13b_11e9_84dc_2cfda1936f0brow2_col3 {\n",
       "            background-color:  #dedcdb;\n",
       "            color:  #000000;\n",
       "        }    #T_0c128adc_d13b_11e9_84dc_2cfda1936f0brow2_col4 {\n",
       "            background-color:  #cedaeb;\n",
       "            color:  #000000;\n",
       "        }    #T_0c128adc_d13b_11e9_84dc_2cfda1936f0brow2_col5 {\n",
       "            background-color:  #c0d4f5;\n",
       "            color:  #000000;\n",
       "        }    #T_0c128adc_d13b_11e9_84dc_2cfda1936f0brow2_col6 {\n",
       "            background-color:  #abc8fd;\n",
       "            color:  #000000;\n",
       "        }    #T_0c128adc_d13b_11e9_84dc_2cfda1936f0brow3_col0 {\n",
       "            background-color:  #6384eb;\n",
       "            color:  #000000;\n",
       "        }    #T_0c128adc_d13b_11e9_84dc_2cfda1936f0brow3_col1 {\n",
       "            background-color:  #779af7;\n",
       "            color:  #000000;\n",
       "        }    #T_0c128adc_d13b_11e9_84dc_2cfda1936f0brow3_col2 {\n",
       "            background-color:  #e4d9d2;\n",
       "            color:  #000000;\n",
       "        }    #T_0c128adc_d13b_11e9_84dc_2cfda1936f0brow3_col3 {\n",
       "            background-color:  #b40426;\n",
       "            color:  #f1f1f1;\n",
       "        }    #T_0c128adc_d13b_11e9_84dc_2cfda1936f0brow3_col4 {\n",
       "            background-color:  #dadce0;\n",
       "            color:  #000000;\n",
       "        }    #T_0c128adc_d13b_11e9_84dc_2cfda1936f0brow3_col5 {\n",
       "            background-color:  #b7cff9;\n",
       "            color:  #000000;\n",
       "        }    #T_0c128adc_d13b_11e9_84dc_2cfda1936f0brow3_col6 {\n",
       "            background-color:  #c4d5f3;\n",
       "            color:  #000000;\n",
       "        }    #T_0c128adc_d13b_11e9_84dc_2cfda1936f0brow4_col0 {\n",
       "            background-color:  #abc8fd;\n",
       "            color:  #000000;\n",
       "        }    #T_0c128adc_d13b_11e9_84dc_2cfda1936f0brow4_col1 {\n",
       "            background-color:  #85a8fc;\n",
       "            color:  #000000;\n",
       "        }    #T_0c128adc_d13b_11e9_84dc_2cfda1936f0brow4_col2 {\n",
       "            background-color:  #adc9fd;\n",
       "            color:  #000000;\n",
       "        }    #T_0c128adc_d13b_11e9_84dc_2cfda1936f0brow4_col3 {\n",
       "            background-color:  #b3cdfb;\n",
       "            color:  #000000;\n",
       "        }    #T_0c128adc_d13b_11e9_84dc_2cfda1936f0brow4_col4 {\n",
       "            background-color:  #b40426;\n",
       "            color:  #f1f1f1;\n",
       "        }    #T_0c128adc_d13b_11e9_84dc_2cfda1936f0brow4_col5 {\n",
       "            background-color:  #3b4cc0;\n",
       "            color:  #f1f1f1;\n",
       "        }    #T_0c128adc_d13b_11e9_84dc_2cfda1936f0brow4_col6 {\n",
       "            background-color:  #e3d9d3;\n",
       "            color:  #000000;\n",
       "        }    #T_0c128adc_d13b_11e9_84dc_2cfda1936f0brow5_col0 {\n",
       "            background-color:  #3b4cc0;\n",
       "            color:  #f1f1f1;\n",
       "        }    #T_0c128adc_d13b_11e9_84dc_2cfda1936f0brow5_col1 {\n",
       "            background-color:  #cfdaea;\n",
       "            color:  #000000;\n",
       "        }    #T_0c128adc_d13b_11e9_84dc_2cfda1936f0brow5_col2 {\n",
       "            background-color:  #9abbff;\n",
       "            color:  #000000;\n",
       "        }    #T_0c128adc_d13b_11e9_84dc_2cfda1936f0brow5_col3 {\n",
       "            background-color:  #81a4fb;\n",
       "            color:  #000000;\n",
       "        }    #T_0c128adc_d13b_11e9_84dc_2cfda1936f0brow5_col4 {\n",
       "            background-color:  #3b4cc0;\n",
       "            color:  #f1f1f1;\n",
       "        }    #T_0c128adc_d13b_11e9_84dc_2cfda1936f0brow5_col5 {\n",
       "            background-color:  #b40426;\n",
       "            color:  #f1f1f1;\n",
       "        }    #T_0c128adc_d13b_11e9_84dc_2cfda1936f0brow5_col6 {\n",
       "            background-color:  #5e7de7;\n",
       "            color:  #000000;\n",
       "        }    #T_0c128adc_d13b_11e9_84dc_2cfda1936f0brow6_col0 {\n",
       "            background-color:  #80a3fa;\n",
       "            color:  #000000;\n",
       "        }    #T_0c128adc_d13b_11e9_84dc_2cfda1936f0brow6_col1 {\n",
       "            background-color:  #3b4cc0;\n",
       "            color:  #f1f1f1;\n",
       "        }    #T_0c128adc_d13b_11e9_84dc_2cfda1936f0brow6_col2 {\n",
       "            background-color:  #82a6fb;\n",
       "            color:  #000000;\n",
       "        }    #T_0c128adc_d13b_11e9_84dc_2cfda1936f0brow6_col3 {\n",
       "            background-color:  #94b6ff;\n",
       "            color:  #000000;\n",
       "        }    #T_0c128adc_d13b_11e9_84dc_2cfda1936f0brow6_col4 {\n",
       "            background-color:  #e4d9d2;\n",
       "            color:  #000000;\n",
       "        }    #T_0c128adc_d13b_11e9_84dc_2cfda1936f0brow6_col5 {\n",
       "            background-color:  #6282ea;\n",
       "            color:  #000000;\n",
       "        }    #T_0c128adc_d13b_11e9_84dc_2cfda1936f0brow6_col6 {\n",
       "            background-color:  #b40426;\n",
       "            color:  #f1f1f1;\n",
       "        }</style><table id=\"T_0c128adc_d13b_11e9_84dc_2cfda1936f0b\" ><thead>    <tr>        <th class=\"blank level0\" ></th>        <th class=\"col_heading level0 col0\" >Age</th>        <th class=\"col_heading level0 col1\" >Sex</th>        <th class=\"col_heading level0 col2\" >SibSp</th>        <th class=\"col_heading level0 col3\" >Parch</th>        <th class=\"col_heading level0 col4\" >Fare</th>        <th class=\"col_heading level0 col5\" >Pclass</th>        <th class=\"col_heading level0 col6\" >Survived</th>    </tr></thead><tbody>\n",
       "                <tr>\n",
       "                        <th id=\"T_0c128adc_d13b_11e9_84dc_2cfda1936f0blevel0_row0\" class=\"row_heading level0 row0\" >Age</th>\n",
       "                        <td id=\"T_0c128adc_d13b_11e9_84dc_2cfda1936f0brow0_col0\" class=\"data row0 col0\" >1</td>\n",
       "                        <td id=\"T_0c128adc_d13b_11e9_84dc_2cfda1936f0brow0_col1\" class=\"data row0 col1\" >0.0932536</td>\n",
       "                        <td id=\"T_0c128adc_d13b_11e9_84dc_2cfda1936f0brow0_col2\" class=\"data row0 col2\" >-0.308247</td>\n",
       "                        <td id=\"T_0c128adc_d13b_11e9_84dc_2cfda1936f0brow0_col3\" class=\"data row0 col3\" >-0.189119</td>\n",
       "                        <td id=\"T_0c128adc_d13b_11e9_84dc_2cfda1936f0brow0_col4\" class=\"data row0 col4\" >0.0960667</td>\n",
       "                        <td id=\"T_0c128adc_d13b_11e9_84dc_2cfda1936f0brow0_col5\" class=\"data row0 col5\" >-0.369226</td>\n",
       "                        <td id=\"T_0c128adc_d13b_11e9_84dc_2cfda1936f0brow0_col6\" class=\"data row0 col6\" >-0.0772211</td>\n",
       "            </tr>\n",
       "            <tr>\n",
       "                        <th id=\"T_0c128adc_d13b_11e9_84dc_2cfda1936f0blevel0_row1\" class=\"row_heading level0 row1\" >Sex</th>\n",
       "                        <td id=\"T_0c128adc_d13b_11e9_84dc_2cfda1936f0brow1_col0\" class=\"data row1 col0\" >0.0932536</td>\n",
       "                        <td id=\"T_0c128adc_d13b_11e9_84dc_2cfda1936f0brow1_col1\" class=\"data row1 col1\" >1</td>\n",
       "                        <td id=\"T_0c128adc_d13b_11e9_84dc_2cfda1936f0brow1_col2\" class=\"data row1 col2\" >-0.10395</td>\n",
       "                        <td id=\"T_0c128adc_d13b_11e9_84dc_2cfda1936f0brow1_col3\" class=\"data row1 col3\" >-0.246972</td>\n",
       "                        <td id=\"T_0c128adc_d13b_11e9_84dc_2cfda1936f0brow1_col4\" class=\"data row1 col4\" >-0.184994</td>\n",
       "                        <td id=\"T_0c128adc_d13b_11e9_84dc_2cfda1936f0brow1_col5\" class=\"data row1 col5\" >0.15546</td>\n",
       "                        <td id=\"T_0c128adc_d13b_11e9_84dc_2cfda1936f0brow1_col6\" class=\"data row1 col6\" >-0.538826</td>\n",
       "            </tr>\n",
       "            <tr>\n",
       "                        <th id=\"T_0c128adc_d13b_11e9_84dc_2cfda1936f0blevel0_row2\" class=\"row_heading level0 row2\" >SibSp</th>\n",
       "                        <td id=\"T_0c128adc_d13b_11e9_84dc_2cfda1936f0brow2_col0\" class=\"data row2 col0\" >-0.308247</td>\n",
       "                        <td id=\"T_0c128adc_d13b_11e9_84dc_2cfda1936f0brow2_col1\" class=\"data row2 col1\" >-0.10395</td>\n",
       "                        <td id=\"T_0c128adc_d13b_11e9_84dc_2cfda1936f0brow2_col2\" class=\"data row2 col2\" >1</td>\n",
       "                        <td id=\"T_0c128adc_d13b_11e9_84dc_2cfda1936f0brow2_col3\" class=\"data row2 col3\" >0.38382</td>\n",
       "                        <td id=\"T_0c128adc_d13b_11e9_84dc_2cfda1936f0brow2_col4\" class=\"data row2 col4\" >0.138329</td>\n",
       "                        <td id=\"T_0c128adc_d13b_11e9_84dc_2cfda1936f0brow2_col5\" class=\"data row2 col5\" >0.0672474</td>\n",
       "                        <td id=\"T_0c128adc_d13b_11e9_84dc_2cfda1936f0brow2_col6\" class=\"data row2 col6\" >-0.0173584</td>\n",
       "            </tr>\n",
       "            <tr>\n",
       "                        <th id=\"T_0c128adc_d13b_11e9_84dc_2cfda1936f0blevel0_row3\" class=\"row_heading level0 row3\" >Parch</th>\n",
       "                        <td id=\"T_0c128adc_d13b_11e9_84dc_2cfda1936f0brow3_col0\" class=\"data row3 col0\" >-0.189119</td>\n",
       "                        <td id=\"T_0c128adc_d13b_11e9_84dc_2cfda1936f0brow3_col1\" class=\"data row3 col1\" >-0.246972</td>\n",
       "                        <td id=\"T_0c128adc_d13b_11e9_84dc_2cfda1936f0brow3_col2\" class=\"data row3 col2\" >0.38382</td>\n",
       "                        <td id=\"T_0c128adc_d13b_11e9_84dc_2cfda1936f0brow3_col3\" class=\"data row3 col3\" >1</td>\n",
       "                        <td id=\"T_0c128adc_d13b_11e9_84dc_2cfda1936f0brow3_col4\" class=\"data row3 col4\" >0.205119</td>\n",
       "                        <td id=\"T_0c128adc_d13b_11e9_84dc_2cfda1936f0brow3_col5\" class=\"data row3 col5\" >0.0256831</td>\n",
       "                        <td id=\"T_0c128adc_d13b_11e9_84dc_2cfda1936f0brow3_col6\" class=\"data row3 col6\" >0.093317</td>\n",
       "            </tr>\n",
       "            <tr>\n",
       "                        <th id=\"T_0c128adc_d13b_11e9_84dc_2cfda1936f0blevel0_row4\" class=\"row_heading level0 row4\" >Fare</th>\n",
       "                        <td id=\"T_0c128adc_d13b_11e9_84dc_2cfda1936f0brow4_col0\" class=\"data row4 col0\" >0.0960667</td>\n",
       "                        <td id=\"T_0c128adc_d13b_11e9_84dc_2cfda1936f0brow4_col1\" class=\"data row4 col1\" >-0.184994</td>\n",
       "                        <td id=\"T_0c128adc_d13b_11e9_84dc_2cfda1936f0brow4_col2\" class=\"data row4 col2\" >0.138329</td>\n",
       "                        <td id=\"T_0c128adc_d13b_11e9_84dc_2cfda1936f0brow4_col3\" class=\"data row4 col3\" >0.205119</td>\n",
       "                        <td id=\"T_0c128adc_d13b_11e9_84dc_2cfda1936f0brow4_col4\" class=\"data row4 col4\" >1</td>\n",
       "                        <td id=\"T_0c128adc_d13b_11e9_84dc_2cfda1936f0brow4_col5\" class=\"data row4 col5\" >-0.554182</td>\n",
       "                        <td id=\"T_0c128adc_d13b_11e9_84dc_2cfda1936f0brow4_col6\" class=\"data row4 col6\" >0.268189</td>\n",
       "            </tr>\n",
       "            <tr>\n",
       "                        <th id=\"T_0c128adc_d13b_11e9_84dc_2cfda1936f0blevel0_row5\" class=\"row_heading level0 row5\" >Pclass</th>\n",
       "                        <td id=\"T_0c128adc_d13b_11e9_84dc_2cfda1936f0brow5_col0\" class=\"data row5 col0\" >-0.369226</td>\n",
       "                        <td id=\"T_0c128adc_d13b_11e9_84dc_2cfda1936f0brow5_col1\" class=\"data row5 col1\" >0.15546</td>\n",
       "                        <td id=\"T_0c128adc_d13b_11e9_84dc_2cfda1936f0brow5_col2\" class=\"data row5 col2\" >0.0672474</td>\n",
       "                        <td id=\"T_0c128adc_d13b_11e9_84dc_2cfda1936f0brow5_col3\" class=\"data row5 col3\" >0.0256831</td>\n",
       "                        <td id=\"T_0c128adc_d13b_11e9_84dc_2cfda1936f0brow5_col4\" class=\"data row5 col4\" >-0.554182</td>\n",
       "                        <td id=\"T_0c128adc_d13b_11e9_84dc_2cfda1936f0brow5_col5\" class=\"data row5 col5\" >1</td>\n",
       "                        <td id=\"T_0c128adc_d13b_11e9_84dc_2cfda1936f0brow5_col6\" class=\"data row5 col6\" >-0.359653</td>\n",
       "            </tr>\n",
       "            <tr>\n",
       "                        <th id=\"T_0c128adc_d13b_11e9_84dc_2cfda1936f0blevel0_row6\" class=\"row_heading level0 row6\" >Survived</th>\n",
       "                        <td id=\"T_0c128adc_d13b_11e9_84dc_2cfda1936f0brow6_col0\" class=\"data row6 col0\" >-0.0772211</td>\n",
       "                        <td id=\"T_0c128adc_d13b_11e9_84dc_2cfda1936f0brow6_col1\" class=\"data row6 col1\" >-0.538826</td>\n",
       "                        <td id=\"T_0c128adc_d13b_11e9_84dc_2cfda1936f0brow6_col2\" class=\"data row6 col2\" >-0.0173584</td>\n",
       "                        <td id=\"T_0c128adc_d13b_11e9_84dc_2cfda1936f0brow6_col3\" class=\"data row6 col3\" >0.093317</td>\n",
       "                        <td id=\"T_0c128adc_d13b_11e9_84dc_2cfda1936f0brow6_col4\" class=\"data row6 col4\" >0.268189</td>\n",
       "                        <td id=\"T_0c128adc_d13b_11e9_84dc_2cfda1936f0brow6_col5\" class=\"data row6 col5\" >-0.359653</td>\n",
       "                        <td id=\"T_0c128adc_d13b_11e9_84dc_2cfda1936f0brow6_col6\" class=\"data row6 col6\" >1</td>\n",
       "            </tr>\n",
       "    </tbody></table>"
      ],
      "text/plain": [
       "<pandas.io.formats.style.Styler at 0x21d44d7c8d0>"
      ]
     },
     "execution_count": 69,
     "metadata": {},
     "output_type": "execute_result"
    }
   ],
   "source": [
    "features_corr = ['Age', 'Sex', 'SibSp', 'Parch', 'Fare', 'Pclass', 'Survived']\n",
    "df = pd.DataFrame(new_filt_tit_data[features_corr])\n",
    "corr = df.corr()\n",
    "corr.style.background_gradient(cmap='coolwarm')"
   ]
  },
  {
   "cell_type": "markdown",
   "metadata": {},
   "source": [
    "<h2>Selecionando os dados para a previsão e o target do problema</h2>\n",
    "<h15><hr></h15>\n",
    "<h5>Foi aplicado também uma normalização dos dados, especialmente para tratar os outliers relativos à idade</h5>\n",
    "<h5>Quase todos os atributos foram selecionados exceto o ticket, quarto e aonde o tripulante embarcou</h5>\n",
    "<h5>Nessa etapa houve também uma normalização dos dados</h5>"
   ]
  },
  {
   "cell_type": "code",
   "execution_count": 85,
   "metadata": {},
   "outputs": [],
   "source": [
    "features = ['Age', 'Sex', 'SibSp', 'Parch','Pclass', 'Fare']\n",
    "\n",
    "bf_X = np.array(new_filt_tit_data[features])\n",
    "min_max_scaler = preprocessing.MinMaxScaler()\n",
    "X = min_max_scaler.fit_transform(bf_X)\n",
    "\n",
    "y = new_filt_tit_data.Survived"
   ]
  },
  {
   "cell_type": "markdown",
   "metadata": {},
   "source": [
    "<h1>XGBoost</h1>\n",
    "<h15><hr></h15>\n",
    "<h4>- Algoritmo baseado em árvore. Em problemas envolvendo bases não estruturadas como imagens, algoritmos envolvendo redes neurais artificiais são considerados melhores</h4>\n",
    "<h4>- Mas, no caso desse problema de pequeno porte com dados em tabelas algoritmos baseados em árvore de decisão são considerados melhores</h4>\n",
    "<h4>- Modelo é feito sequencialmente enquanto diminui o erro do modelo anterior enquanto aumenta a influência dos melhores modelos</h4>\n",
    "<h4>- Utiliza o algoritmo do gradiente (que minimiza o erro em modelos sequenciais) com processamento paralelo, \n",
    "<h4>e vai podando as arvóres de decisão que não são muito eficientes na classificação de instâncias, o que reduzirá a complexidade do classificador, assim melhorando a acurácia preditiva evitando overfitting </h4>"
   ]
  },
  {
   "cell_type": "code",
   "execution_count": 86,
   "metadata": {},
   "outputs": [],
   "source": [
    "train_X, val_X, train_y, val_y = train_test_split(X, y, random_state=12, test_size=0.20)\n",
    "titanic_model_XGB = XGBClassifier(random_state=12)\n",
    "titanic_model_XGB.fit(train_X, train_y)\n",
    "titanic_predictions_XGB = titanic_model_XGB.predict(val_X)\n",
    "accuracy = accuracy_score(val_y, titanic_predictions_XGB)\n",
    "\n",
    "conf = confusion_matrix(val_y, titanic_predictions_XGB)                       \n",
    "name = 'XGBoost'"
   ]
  },
  {
   "cell_type": "markdown",
   "metadata": {},
   "source": [
    "<h2>Análise dos resultados</h2>\n",
    "<h15><hr></h15>\n",
    "<h4>- Dada esta matriz de correlação podemos inferir os outros dados, temos que Matriz[0][0] = Verdadeiros negativos, Matriz[0][1] = Falso positivo</h4>\n",
    "<h4>  Matriz[1][1] = Verdadeiro positivo, matriz[1][0] = falso negativo</h4>\n",
    "<h4>- A acurácia é dada por: (Vp+Vn)/(Vp+Vn+Fp+Fn), mede a proximidade da medida para um determinado valor</h4>\n",
    "<h4>- A precisão mede a próximidade da medida entre os dados, e é dada por: (Vp)/(Vp+Fn)</h4>\n",
    "<h4>- O parâmetro f1 é dado por: 2*((Precision)*(sensitividade)/(VN + FN)), \n",
    "<h4>- f1 é bom quando se deseja achar uma balança entre precisão e sensitividade e há uma distribuição muito desigual entre as classes</h4>\n",
    "\n"
   ]
  },
  {
   "cell_type": "code",
   "execution_count": 87,
   "metadata": {},
   "outputs": [
    {
     "name": "stdout",
     "output_type": "stream",
     "text": [
      "Acurácia do método XGBoost: 82.517%\n",
      "Precisão F1 por XGBoost: 75.728% \n",
      "Sensitividade do modelo XGBoost: 0.684\n",
      "Especificidade do modelo XGBoost: 0.919\n",
      "\n",
      "Matriz de confusão:\n",
      "[[79  7]\n",
      " [18 39]]\n"
     ]
    }
   ],
   "source": [
    "print(\"Acurácia do método XGBoost: %.3f%%\" % (((conf[1][1]+conf[0][0])/(conf[1][1]+conf[0][0]+conf[0][1]+conf[1][0]))*100))\n",
    "print(\"Precisão F1 por XGBoost: %.3f%% \" % (2*(((conf[1][1])/(conf[1][1]+conf[0][1]))*((conf[1][1])/(conf[1][1]+conf[1][0])))/(((conf[1][1])/(conf[1][1]+conf[0][1]))+((conf[1][1])/(conf[1][1]+conf[1][0])))*100))\n",
    "print(Sensitivity_specificity(conf, name))\n",
    "print(\"Matriz de confusão:\\n{}\".format(conf))"
   ]
  },
  {
   "cell_type": "markdown",
   "metadata": {},
   "source": [
    "<h1>Random Forest</h1>\n",
    "<h15><hr></h15>\n",
    "<h4>- Também é um algoritmo baseado em árvore, tendo sua potencialidade bem desenvolvida nesse tipo de problema</h4>\n",
    "<h4>- Utiliza um meta-algoritmo de bagging, que reduz a variância e overfitting, com métodos de aproximação da média</h4>\n",
    "<h4>- Um subset das features é aleatoriamente escolhido para a construção da floresta, uma gama de árvores de decisão</h4>"
   ]
  },
  {
   "cell_type": "code",
   "execution_count": 88,
   "metadata": {},
   "outputs": [
    {
     "name": "stdout",
     "output_type": "stream",
     "text": [
      "Acurácia do método Random forest classifier: 79.021%\n",
      "Precisão F1 por Random Forest: 72.222% \n",
      "Sensitividade do modelo Random Forest: 0.684\n",
      "Especificidade do modelo Random Forest: 0.860\n",
      "\n",
      "Matriz de confusão:\n",
      "[[74 12]\n",
      " [18 39]]\n"
     ]
    }
   ],
   "source": [
    "titanic_model_rf = RandomForestClassifier(n_jobs=2, random_state=5, n_estimators=10)\n",
    "titanic_model_rf.fit(train_X, train_y)\n",
    "titanic_predictions_rf = titanic_model_rf.predict(val_X)\n",
    "accuracy_rf = accuracy_score(val_y, titanic_predictions_rf)\n",
    "f1_accuracy_rf = f1_score(val_y, titanic_predictions_rf, average='macro')\n",
    "\n",
    "conf = confusion_matrix(val_y, titanic_predictions_rf)\n",
    "name = 'Random Forest'\n",
    "\n",
    "print(\"Acurácia do método Random forest classifier: %.3f%%\" %(((conf[1][1]+conf[0][0])/(conf[1][1]+conf[0][0]+conf[0][1]+conf[1][0]))*100))\n",
    "print(\"Precisão F1 por Random Forest: %.3f%% \" % (2*(((conf[1][1])/(conf[1][1]+conf[0][1]))*((conf[1][1])/(conf[1][1]+conf[1][0])))/(((conf[1][1])/(conf[1][1]+conf[0][1]))+((conf[1][1])/(conf[1][1]+conf[1][0])))*100))\n",
    "print(Sensitivity_specificity(conf, name))\n",
    "print(\"Matriz de confusão:\\n{}\".format(confusion_matrix(val_y, titanic_predictions_rf)))"
   ]
  },
  {
   "cell_type": "markdown",
   "metadata": {},
   "source": [
    "<h2><strong>BÔNUS</strong></h2>"
   ]
  },
  {
   "cell_type": "markdown",
   "metadata": {},
   "source": [
    "<h2>Alteração do Booster do KGBoost<h2>\n",
    "<h25><hr></h25>\n",
    "<h4>- Foi alterado o parâmetro do booster que representa como as bases do classificador serão feitas. Foi alterado de uma árvore para um algoritmo linear, tendo resultados bem piores</h4>\n",
    "<h4>- Visto que, como apontado anteriormente esses problemas com tamanho pequeno/médio e com tabelas é uma das formas que algoritmos baseados em árvore são melhores</h4>"
   ]
  },
  {
   "cell_type": "code",
   "execution_count": 89,
   "metadata": {},
   "outputs": [
    {
     "name": "stdout",
     "output_type": "stream",
     "text": [
      "Acurácia método XGBoost alterando o booster de arvore para linear, e a ordem de seleção das features: 60.140%\n"
     ]
    }
   ],
   "source": [
    "Bonus_titanic_model_XGB = XGBClassifier(random_state=1, booster='gblinear', feature_selector='shuffle')\n",
    "Bonus_titanic_model_XGB.fit(train_X, train_y)\n",
    "Bonus_titanic_predictions_XGB = Bonus_titanic_model_XGB.predict(val_X)\n",
    "Bonus_accuracy_rf = accuracy_score(val_y, Bonus_titanic_predictions_XGB)\n",
    "print(\"Acurácia método XGBoost alterando o booster de arvore para linear, e a ordem de seleção das features: %.3f%%\" % (Bonus_accuracy_rf * 100.0))"
   ]
  },
  {
   "cell_type": "markdown",
   "metadata": {},
   "source": [
    "<h2>Alteração da profundidade e número de estimadores do RandomForest<h2>\n",
    "<h25><hr></h25>\n",
    "<h4>Foram alterados os parâmetros de profundidade máxima e o  n_estimadores (que está relacionado ao número máximo de árvores na floresta).</h4>\n",
    "<h4>O método random forest funciona criando múltiplas árvores de decisão, esse valor foi alterado de 10 para 100 e foi obtida uma melhora de quase 3% em comparação com o teste anterior</h4>"
   ]
  },
  {
   "cell_type": "code",
   "execution_count": 90,
   "metadata": {},
   "outputs": [
    {
     "name": "stdout",
     "output_type": "stream",
     "text": [
      "Acurácia do método Random forest classifier após alterar a profundidade máxima e número de estimadores: 81.818%\n"
     ]
    }
   ],
   "source": [
    "#--------Bônus--------\n",
    "\n",
    "\n",
    "\n",
    "Bonus_titanic_model_rf = RandomForestClassifier(n_jobs=2, random_state=4, n_estimators=100)\n",
    "Bonus_titanic_model_rf.fit(train_X, train_y)\n",
    "Bonus_titanic_predictions_rf = Bonus_titanic_model_rf.predict(val_X)\n",
    "Bonus_accuracy_rf = accuracy_score(val_y, Bonus_titanic_predictions_rf)\n",
    "\n",
    "print(\"Acurácia do método Random forest classifier após alterar a profundidade máxima e número de estimadores: %.3f%%\" %(Bonus_accuracy_rf*100.0))"
   ]
  }
 ],
 "metadata": {
  "kernelspec": {
   "display_name": "Python 3",
   "language": "python",
   "name": "python3"
  },
  "language_info": {
   "codemirror_mode": {
    "name": "ipython",
    "version": 3
   },
   "file_extension": ".py",
   "mimetype": "text/x-python",
   "name": "python",
   "nbconvert_exporter": "python",
   "pygments_lexer": "ipython3",
   "version": "3.7.3"
  }
 },
 "nbformat": 4,
 "nbformat_minor": 4
}
